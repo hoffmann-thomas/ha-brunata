{
 "cells": [
  {
   "metadata": {
    "ExecuteTime": {
     "end_time": "2025-10-05T13:55:26.975711Z",
     "start_time": "2025-10-05T13:55:26.748232Z"
    }
   },
   "cell_type": "code",
   "source": "import datetime\n",
   "id": "e61bd308afe22867",
   "outputs": [],
   "execution_count": 1
  },
  {
   "cell_type": "code",
   "id": "initial_id",
   "metadata": {
    "collapsed": true,
    "ExecuteTime": {
     "end_time": "2025-10-05T13:55:26.983696Z",
     "start_time": "2025-10-05T13:55:26.980948Z"
    }
   },
   "source": [
    "username = \"thoms_hoffmann@me.com\"\n",
    "password = \"Something4me\""
   ],
   "outputs": [],
   "execution_count": 2
  },
  {
   "metadata": {
    "ExecuteTime": {
     "end_time": "2025-10-05T13:55:27.041213Z",
     "start_time": "2025-10-05T13:55:27.037331Z"
    }
   },
   "cell_type": "code",
   "source": [
    "from aiohttp import ClientSession\n",
    "\n",
    "session = ClientSession()"
   ],
   "id": "480217b118942441",
   "outputs": [],
   "execution_count": 3
  },
  {
   "metadata": {
    "ExecuteTime": {
     "end_time": "2025-10-05T13:55:27.098634Z",
     "start_time": "2025-10-05T13:55:27.096243Z"
    }
   },
   "cell_type": "code",
   "source": [
    "from custom_components.brunata_online import BrunataClientConfiguration\n",
    "\n",
    "config = BrunataClientConfiguration(username, password, session, \"en\")"
   ],
   "id": "f40cf4dad6d4903b",
   "outputs": [],
   "execution_count": 4
  },
  {
   "metadata": {
    "ExecuteTime": {
     "end_time": "2025-10-05T13:55:27.158068Z",
     "start_time": "2025-10-05T13:55:27.155700Z"
    }
   },
   "cell_type": "code",
   "source": [
    "from custom_components.brunata_online import BrunataClient\n",
    "\n",
    "client = BrunataClient(config)"
   ],
   "id": "ab5b8dd4a4b2c23d",
   "outputs": [],
   "execution_count": 5
  },
  {
   "metadata": {
    "ExecuteTime": {
     "end_time": "2025-10-05T13:55:28.876042Z",
     "start_time": "2025-10-05T13:55:27.205500Z"
    }
   },
   "cell_type": "code",
   "source": "allocation_units = await client._get_allocation_units()",
   "id": "481e0602b05d92cf",
   "outputs": [
    {
     "name": "stderr",
     "output_type": "stream",
     "text": [
      "DEBUG:urllib3.connectionpool:Starting new HTTPS connection (1): online.brunata.com:443\n",
      "DEBUG:urllib3.connectionpool:https://online.brunata.com:443 \"GET /online-auth-webservice/v1/rest/authorize?client_id=e1d10965-78dc-4051-a1e5-251483e74d03&redirect_uri=https%3A%2F%2Fonline.brunata.com%2Fauth-response&scope=e1d10965-78dc-4051-a1e5-251483e74d03+offline_access&response_type=code&code_challenge=TOsmw9FUQWJ45dFdK28peHWWZDBrjqiHad_flolsCdY&code_challenge_method=S256 HTTP/1.1\" 307 0\n",
      "DEBUG:urllib3.connectionpool:Starting new HTTPS connection (1): brunatab2cprod.b2clogin.com:443\n",
      "DEBUG:urllib3.connectionpool:https://brunatab2cprod.b2clogin.com:443 \"GET /brunatab2cprod.onmicrosoft.com/B2C_1_signin_username/oauth2/v2.0/authorize?scope=e1d10965-78dc-4051-a1e5-251483e74d03+offline_access&response_type=code&redirect_uri=https%3A%2F%2Fonline.brunata.com%2Fauth-response&code_challenge_method=S256&client_id=e1d10965-78dc-4051-a1e5-251483e74d03&code_challenge=TOsmw9FUQWJ45dFdK28peHWWZDBrjqiHad_flolsCdY HTTP/1.1\" 200 158283\n",
      "DEBUG:libs.brunata.brunata_api:Transaction ID: StateProperties=eyJUSUQiOiI5OWYzYWIwMC02ZmY3LTQxN2QtYWU2Ni02Mjg3NzQ3OWVmYTgifQ\n",
      "DEBUG:urllib3.connectionpool:https://brunatab2cprod.b2clogin.com:443 \"POST /brunatab2cprod.onmicrosoft.com/B2C_1_signin_username/SelfAsserted?tx=StateProperties%3DeyJUSUQiOiI5OWYzYWIwMC02ZmY3LTQxN2QtYWU2Ni02Mjg3NzQ3OWVmYTgifQ&p=B2C_1_signin_username HTTP/1.1\" 200 136\n",
      "DEBUG:urllib3.connectionpool:https://brunatab2cprod.b2clogin.com:443 \"GET /brunatab2cprod.onmicrosoft.com/B2C_1_signin_username/api/CombinedSigninAndSignup/confirmed?rememberMe=False&csrf_token=WUVqOXZUN0NrMHlucFNqdnN5N2Y2TDQxTmhTRXVDdGYxZ3JCemNZam9KQWxCSEszemU0anZVY01IZ1VIOFR3M0ZGRnpNRVVTVWhvNHV0MjMva0I1SVE9PTsyMDI1LTEwLTA1VDEzOjU1OjI3LjUwOTcyOTdaO1VUT3JQZkhtMHFjL2FCQ21JcXE3Unc9PTt7Ik9yY2hlc3RyYXRpb25TdGVwIjoxfQ%3D%3D&tx=StateProperties%3DeyJUSUQiOiI5OWYzYWIwMC02ZmY3LTQxN2QtYWU2Ni02Mjg3NzQ3OWVmYTgifQ&p=B2C_1_signin_username HTTP/1.1\" 302 933\n",
      "DEBUG:libs.brunata.brunata_api:302 - https://online.brunata.com/auth-response?code=eyJraWQiOiJjcGltY29yZV8wOTI1MjAxNSIsInZlciI6IjEuMCIsInppcCI6IkRlZmxhdGUiLCJzZXIiOiIxLjAifQ..18fMzOMZnb3YC5EM.8ayRQhNuT1orwR0CTDsbvhbfVHAxenLQINST6WMMyfck0t5PWutTv66wjCgyhU-1r0SsMyCT-AmZqJTZ4ko2jN9AT0ihAyGlLplHMGvuj69U-2S8Own9baAdJ-W6j6yPPKFGRTZzQgpbgKukVIK8z9a1Gmn_7VqKJcUlOZlynPV95elJb8uN-nlKuWM1gtaFJLSlJpbDRsicPTyENkyYmkvEF6zQwSzt16BLNrI9EOWg122jo2ZdWzp2arLL0G73SoAzDbMseZdWjKLqaX6brTgJhpxqixHYs6tSMLWVexJLY5TqPx3Tnn6Ii-2OtBUn7L25wCvnqpbcwyKFdpy9sGV5jTvsQmXH9HfwpqCQJ_mcvPvU0TKtPsbfYA3KtrvNPpNavMAcq4DXH2W7jlGH4zewIWoPd0jSkpCw9_TU070mpVhHn1EO9myGXnN3xafGqOQBet-02D7IyEb2ANxOIZVWOZoK1VCrrsMPY4yc_X6NOx3KbMgReYWt7XpK6JYxM5yGa68TfcU7sRnGi2PMT2tQoxafP7wUO6UUkSgaf-pkevDBZjcmEYQMMrpNHDeRfyHnJ-kFuLnadNK-BEiOdSAzf0h0sseWdHDHrrHus_XVMEVzpMSJI3Yv530BcA.UbE533uH7mFLyZ981b1Y7w\n",
      "DEBUG:urllib3.connectionpool:https://brunatab2cprod.b2clogin.com:443 \"POST /brunatab2cprod.onmicrosoft.com/B2C_1_signin_username/oauth2/v2.0/token HTTP/1.1\" 200 2932\n"
     ]
    }
   ],
   "execution_count": 6
  },
  {
   "metadata": {
    "ExecuteTime": {
     "end_time": "2025-10-05T13:55:29.025217Z",
     "start_time": "2025-10-05T13:55:28.934830Z"
    }
   },
   "cell_type": "code",
   "source": "configuration = await client._get_configuration()",
   "id": "882818270e591872",
   "outputs": [
    {
     "name": "stderr",
     "output_type": "stream",
     "text": [
      "DEBUG:libs.brunata.brunata_api:Token is not expired, expires in 3600 seconds\n"
     ]
    }
   ],
   "execution_count": 7
  },
  {
   "metadata": {
    "ExecuteTime": {
     "end_time": "2025-10-05T13:55:29.487853Z",
     "start_time": "2025-10-05T13:55:29.029852Z"
    }
   },
   "cell_type": "code",
   "source": "meter_config = await client._get_meters()",
   "id": "ffb8eaab6fa9f0e6",
   "outputs": [
    {
     "name": "stderr",
     "output_type": "stream",
     "text": [
      "DEBUG:libs.brunata.brunata_api:Token is not expired, expires in 3599 seconds\n"
     ]
    }
   ],
   "execution_count": 8
  },
  {
   "metadata": {
    "ExecuteTime": {
     "end_time": "2025-10-05T13:55:29.497725Z",
     "start_time": "2025-10-05T13:55:29.492442Z"
    }
   },
   "cell_type": "code",
   "source": [
    "start_time = datetime.datetime(2022, 8,1,0,0,0)\n",
    "end_time = datetime.datetime(2022, 9,1,0,0,0)\n",
    "f\"{start_time.isoformat()}.000Z | {end_time.isoformat()}.000Z\""
   ],
   "id": "f34782575356cf37",
   "outputs": [
    {
     "data": {
      "text/plain": [
       "'2022-08-01T00:00:00.000Z | 2022-09-01T00:00:00.000Z'"
      ]
     },
     "execution_count": 9,
     "metadata": {},
     "output_type": "execute_result"
    }
   ],
   "execution_count": 9
  },
  {
   "metadata": {
    "ExecuteTime": {
     "end_time": "2025-10-05T13:55:30.328140Z",
     "start_time": "2025-10-05T13:55:29.545389Z"
    }
   },
   "cell_type": "code",
   "source": [
    "#await client.connect()\n",
    "meters = await client.get_meters()"
   ],
   "id": "263497a540ef2e1e",
   "outputs": [
    {
     "name": "stderr",
     "output_type": "stream",
     "text": [
      "DEBUG:libs.brunata.brunata_api:Token is not expired, expires in 3599 seconds\n",
      "DEBUG:libs.brunata.brunata_api:Token is not expired, expires in 3599 seconds\n",
      "DEBUG:libs.brunata.brunata_api:Token is not expired, expires in 3599 seconds\n"
     ]
    }
   ],
   "execution_count": 10
  },
  {
   "metadata": {
    "ExecuteTime": {
     "end_time": "2025-10-05T13:55:30.504669Z",
     "start_time": "2025-10-05T13:55:30.332949Z"
    }
   },
   "cell_type": "code",
   "source": [
    "from custom_components.brunata_online.api.const import Consumption, Interval\n",
    "\n",
    "consumption = await client.get_consumption(start_time, end_time, Consumption.WATER, \"K\", Interval.DAY)"
   ],
   "id": "97b020b775a169b1",
   "outputs": [
    {
     "name": "stderr",
     "output_type": "stream",
     "text": [
      "DEBUG:libs.brunata.brunata_api:Token is not expired, expires in 3598 seconds\n"
     ]
    }
   ],
   "execution_count": 11
  },
  {
   "metadata": {
    "ExecuteTime": {
     "end_time": "2025-10-05T13:55:30.512119Z",
     "start_time": "2025-10-05T13:55:30.509767Z"
    }
   },
   "cell_type": "code",
   "source": [
    "#import json\n",
    "\n",
    "#json.dumps([r.model_dump_json() for r in consumption])"
   ],
   "id": "e126c7fa2ce584ba",
   "outputs": [],
   "execution_count": 12
  }
 ],
 "metadata": {
  "kernelspec": {
   "display_name": "Python 3",
   "language": "python",
   "name": "python3"
  },
  "language_info": {
   "codemirror_mode": {
    "name": "ipython",
    "version": 2
   },
   "file_extension": ".py",
   "mimetype": "text/x-python",
   "name": "python",
   "nbconvert_exporter": "python",
   "pygments_lexer": "ipython2",
   "version": "2.7.6"
  }
 },
 "nbformat": 4,
 "nbformat_minor": 5
}
