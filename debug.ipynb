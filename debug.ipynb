{
 "cells": [
  {
   "cell_type": "code",
   "metadata": {
    "ExecuteTime": {
     "end_time": "2025-10-04T19:22:25.295834Z",
     "start_time": "2025-10-04T19:22:25.170432Z"
    }
   },
   "source": [
    "\n",
    "import custom_components.brunata_online.api.const as const"
   ],
   "outputs": [],
   "execution_count": 1
  },
  {
   "cell_type": "code",
   "metadata": {
    "ExecuteTime": {
     "end_time": "2025-10-04T19:22:25.302009Z",
     "start_time": "2025-10-04T19:22:25.299561Z"
    }
   },
   "source": [
    "username = \"thoms_hoffmann@me.com\"\n",
    "password = \"Something4me\""
   ],
   "outputs": [],
   "execution_count": 2
  },
  {
   "cell_type": "code",
   "metadata": {
    "ExecuteTime": {
     "end_time": "2025-10-04T19:22:25.359779Z",
     "start_time": "2025-10-04T19:22:25.356984Z"
    }
   },
   "source": [
    "from aiohttp import ClientSession\n",
    "\n",
    "session = ClientSession()"
   ],
   "outputs": [],
   "execution_count": 3
  },
  {
   "cell_type": "code",
   "metadata": {
    "ExecuteTime": {
     "end_time": "2025-10-04T19:22:25.412237Z",
     "start_time": "2025-10-04T19:22:25.409908Z"
    }
   },
   "source": [
    "from custom_components.brunata_online.api.api import BrunataOnlineApiClient\n",
    "\n",
    "client = BrunataOnlineApiClient(username, password, session)"
   ],
   "outputs": [],
   "execution_count": 4
  },
  {
   "cell_type": "code",
   "metadata": {
    "ExecuteTime": {
     "end_time": "2025-10-04T19:23:10.368794Z",
     "start_time": "2025-10-04T19:22:36.054377Z"
    }
   },
   "source": "await client.available_meters()",
   "outputs": [
    {
     "name": "stderr",
     "output_type": "stream",
     "text": [
      "DEBUG:urllib3.connectionpool:Starting new HTTPS connection (1): online.brunata.com:443\n",
      "DEBUG:urllib3.connectionpool:https://online.brunata.com:443 \"GET /online-auth-webservice/v1/rest/authorize?client_id=e1d10965-78dc-4051-a1e5-251483e74d03&redirect_uri=https%3A%2F%2Fonline.brunata.com%2Fauth-response&scope=e1d10965-78dc-4051-a1e5-251483e74d03+offline_access&response_type=code&code_challenge=PEJhoEfUr4mAVzu1cQigMUqCrMF664eKtzurrz5wbEs&code_challenge_method=S256 HTTP/1.1\" 307 0\n",
      "DEBUG:urllib3.connectionpool:Starting new HTTPS connection (1): brunatab2cprod.b2clogin.com:443\n",
      "DEBUG:urllib3.connectionpool:https://brunatab2cprod.b2clogin.com:443 \"GET /brunatab2cprod.onmicrosoft.com/B2C_1_signin_username/oauth2/v2.0/authorize?scope=e1d10965-78dc-4051-a1e5-251483e74d03+offline_access&response_type=code&redirect_uri=https%3A%2F%2Fonline.brunata.com%2Fauth-response&code_challenge_method=S256&client_id=e1d10965-78dc-4051-a1e5-251483e74d03&code_challenge=PEJhoEfUr4mAVzu1cQigMUqCrMF664eKtzurrz5wbEs HTTP/1.1\" 200 171573\n",
      "DEBUG:libs.brunata:Transaction ID: StateProperties=eyJUSUQiOiJhNjUzZGUzNy0zYjFjLTQ1NTUtOTY0MC01YTI0MDg0MDVhZjcifQ\n",
      "DEBUG:urllib3.connectionpool:https://brunatab2cprod.b2clogin.com:443 \"POST /brunatab2cprod.onmicrosoft.com/B2C_1_signin_username/SelfAsserted?tx=StateProperties%3DeyJUSUQiOiJhNjUzZGUzNy0zYjFjLTQ1NTUtOTY0MC01YTI0MDg0MDVhZjcifQ&p=B2C_1_signin_username HTTP/1.1\" 200 136\n",
      "DEBUG:urllib3.connectionpool:https://brunatab2cprod.b2clogin.com:443 \"GET /brunatab2cprod.onmicrosoft.com/B2C_1_signin_username/api/CombinedSigninAndSignup/confirmed?rememberMe=False&csrf_token=eUVvUDhEbHpjZlhGN0huR0ZTK1locGJSSTV2SzAwci9EZ0V6SjZaZUNDdmZBYjI2Rjk0ZnRZZ0ZwTlNBUzNBbEVqN3J2eVNpMlc3R2s5Qktid05SOGc9PTsyMDI1LTEwLTA0VDE5OjIyOjM4LjY1NDk1ODVaO2VQazAxdUxPVUVsMDZZMUNUQkRiYXc9PTt7Ik9yY2hlc3RyYXRpb25TdGVwIjoxfQ%3D%3D&tx=StateProperties%3DeyJUSUQiOiJhNjUzZGUzNy0zYjFjLTQ1NTUtOTY0MC01YTI0MDg0MDVhZjcifQ&p=B2C_1_signin_username HTTP/1.1\" 302 933\n",
      "DEBUG:libs.brunata:302 - https://online.brunata.com/auth-response?code=eyJraWQiOiJjcGltY29yZV8wOTI1MjAxNSIsInZlciI6IjEuMCIsInppcCI6IkRlZmxhdGUiLCJzZXIiOiIxLjAifQ..ZhIjlZlrTbm-eH89.uzTXwsld1REMHCtU0fOD81mC9cNGJAGOGvj_X7i41tn1q0wEJVvjPRExsgZvqoe706EeHBfp9sIf7NUSP9oZmFmKV-3SAn8pbhopS3H1owjBNJC6IMEF3ARUKLPOYEfLma3eiHcFs4KENaJBzFKFcVGTzMsK-JqLTcNUexZbZRDgzoYocJQMSxNR1DQbB6i-pbapfPtzpNYHjvx17NcoTwPf5ciCC11nv_xC37Ru5AjCFcunegriSdzUlJi2BX4Z9iO-majZChid83iD4lrpZXz4cDLl9Tcu44NkYSwUo3Q0gD_qDts6sqzogVLiVRKsIBOtUPyaPVPZ3DH-Ih1a-JZISyjMj7OmXFneiLE0oJij2KFgxM9YvZG9U3uaWgruYNCJ9xZX0HKtQ8TVXkFtQYkA3gQkF8f2ftMfXXg78-QPBFkUGYVpM_-OTWw-7be3B_Od3QW3VPT5ZGb4ktN7Wit-i_dWqAlFENsjDRQNP0wJD70U0USRxxqwLhXxykyLi4vvsKg3G0Y7jfyY7lZUpUKaxXtdUh-9-T3pA1LgrJZXYsUI16tRdjiNniezebqaAzRPExlWEjJ5QIiagimHlrQWDX6Wktcwziw0K34QmAC-0ONRHzXAOnveRZt45A.vDMwLkQPZ6FWmNgT3ro4uQ\n",
      "DEBUG:urllib3.connectionpool:https://brunatab2cprod.b2clogin.com:443 \"POST /brunatab2cprod.onmicrosoft.com/B2C_1_signin_username/oauth2/v2.0/token HTTP/1.1\" 200 2931\n",
      "DEBUG:libs.brunata:Token is not expired, expires in 3600 seconds\n",
      "DEBUG:libs.brunata:Token is not expired, expires in 3598 seconds\n",
      "DEBUG:libs.brunata:New meter found: Meter(Heating (Radiator) - last_reading: None)\n",
      "DEBUG:libs.brunata:Updated Meter(Heating (Radiator) - last_reading: Noneunits @2025-10-04 02:20:00+02:00) with new reading\n",
      "DEBUG:libs.brunata:New meter found: Meter(Hot water (Water) - last_reading: None)\n",
      "DEBUG:libs.brunata:Updated Meter(Hot water (Water) - last_reading: 35.774m³ @2025-10-04 02:16:00+02:00) with new reading\n",
      "DEBUG:libs.brunata:New meter found: Meter(Heating (Radiator) - last_reading: None)\n",
      "DEBUG:libs.brunata:Updated Meter(Heating (Radiator) - last_reading: Noneunits @2025-10-04 02:12:00+02:00) with new reading\n",
      "DEBUG:libs.brunata:New meter found: Meter(Cold water (Water) - last_reading: None)\n",
      "DEBUG:libs.brunata:Updated Meter(Cold water (Water) - last_reading: 62.816m³ @2025-10-04 04:17:00+02:00) with new reading\n",
      "DEBUG:libs.brunata:New meter found: Meter(Heating (Radiator) - last_reading: None)\n",
      "DEBUG:libs.brunata:Updated Meter(Heating (Radiator) - last_reading: Noneunits @2025-10-04 02:21:00+02:00) with new reading\n",
      "DEBUG:libs.brunata:New meter found: Meter(Heating (Radiator) - last_reading: None)\n",
      "DEBUG:libs.brunata:Updated Meter(Heating (Radiator) - last_reading: Noneunits @2025-10-04 02:19:00+02:00) with new reading\n"
     ]
    },
    {
     "data": {
      "text/plain": [
       "dict_values([<libs.brunata.api.Meter object at 0x7fd80939d160>, <libs.brunata.api.Meter object at 0x7fd7e7ec2990>, <libs.brunata.api.Meter object at 0x7fd7e7ec1310>, <libs.brunata.api.Meter object at 0x7fd7e7eddcd0>, <libs.brunata.api.Meter object at 0x7fd7e7ede2c0>, <libs.brunata.api.Meter object at 0x7fd7e7ed9910>])"
      ]
     },
     "execution_count": 5,
     "metadata": {},
     "output_type": "execute_result"
    }
   ],
   "execution_count": 5
  },
  {
   "cell_type": "code",
   "metadata": {
    "ExecuteTime": {
     "end_time": "2025-10-04T19:23:15.045788Z",
     "start_time": "2025-10-04T19:23:10.398555Z"
    }
   },
   "source": [
    "await client.fetch_meters()"
   ],
   "outputs": [
    {
     "name": "stderr",
     "output_type": "stream",
     "text": [
      "DEBUG:libs.brunata:Token is not expired, expires in 3568 seconds\n",
      "INFO:libs.brunata:Meter info: [{'superAllocationUnit': 1, 'allocationUnits': ['O']}, {'superAllocationUnit': 2, 'allocationUnits': ['W', 'K']}]\n",
      "DEBUG:libs.brunata:🔥 Heating meter(s) found\n",
      "DEBUG:libs.brunata:💧 Water meter(s) found\n"
     ]
    }
   ],
   "execution_count": 6
  },
  {
   "cell_type": "code",
   "metadata": {
    "jupyter": {
     "is_executing": true
    },
    "ExecuteTime": {
     "start_time": "2025-10-04T19:23:20.957685Z"
    }
   },
   "source": [
    "await client.available_meters()"
   ],
   "outputs": [
    {
     "name": "stderr",
     "output_type": "stream",
     "text": [
      "DEBUG:libs.brunata:Token is not expired, expires in 3557 seconds\n",
      "DEBUG:libs.brunata:Token is not expired, expires in 3557 seconds\n",
      "DEBUG:libs.brunata:Token is not expired, expires in 3555 seconds\n"
     ]
    }
   ],
   "execution_count": null
  },
  {
   "cell_type": "code",
   "metadata": {
    "ExecuteTime": {
     "end_time": "2025-10-04T18:21:37.607492Z",
     "start_time": "2025-10-04T18:21:36.961039Z"
    }
   },
   "source": [
    "await client.fetch_consumption(const.Consumption.WATER, const.Interval.DAY)"
   ],
   "outputs": [
    {
     "name": "stderr",
     "output_type": "stream",
     "text": [
      "DEBUG:libs.brunata:Token is not expired, expires in 3599 seconds\n",
      "DEBUG:libs.brunata:Consumption info: {'Meters': {'Day': {10833241: {'Name': 'Køkken', 'Values': {'2025-10-01': 0.019, '2025-10-02': 0.025, '2025-10-03': 0.017, '2025-10-04': 0.0}}, 10833255: {'Name': 'Køkken', 'Values': {'2025-10-01': 0.033, '2025-10-02': 0.049, '2025-10-03': 0.031, '2025-10-04': 0.006}}}, 'Month': {}}, 'Units': ['W', 'K']}\n"
     ]
    }
   ],
   "execution_count": 8
  },
  {
   "cell_type": "code",
   "metadata": {
    "ExecuteTime": {
     "end_time": "2025-10-04T18:21:37.615645Z",
     "start_time": "2025-10-04T18:21:37.611615Z"
    }
   },
   "source": [
    "client.get_consumption()"
   ],
   "outputs": [
    {
     "data": {
      "text/plain": [
       "{'Heating': {'Meters': {'Day': {10833241: {'Name': 'Køkken',\n",
       "     'Values': {'2025-10-01': 0.019,\n",
       "      '2025-10-02': 0.025,\n",
       "      '2025-10-03': 0.017,\n",
       "      '2025-10-04': 0.0}},\n",
       "    10833255: {'Name': 'Køkken',\n",
       "     'Values': {'2025-10-01': 0.033,\n",
       "      '2025-10-02': 0.049,\n",
       "      '2025-10-03': 0.031,\n",
       "      '2025-10-04': 0.006}}},\n",
       "   'Month': {}},\n",
       "  'Units': ['O']},\n",
       " 'Water': {'Meters': {'Day': {10833241: {'Name': 'Køkken',\n",
       "     'Values': {'2025-10-01': 0.019,\n",
       "      '2025-10-02': 0.025,\n",
       "      '2025-10-03': 0.017,\n",
       "      '2025-10-04': 0.0}},\n",
       "    10833255: {'Name': 'Køkken',\n",
       "     'Values': {'2025-10-01': 0.033,\n",
       "      '2025-10-02': 0.049,\n",
       "      '2025-10-03': 0.031,\n",
       "      '2025-10-04': 0.006}}},\n",
       "   'Month': {}},\n",
       "  'Units': ['W', 'K']},\n",
       " 'Electricity': {}}"
      ]
     },
     "execution_count": 9,
     "metadata": {},
     "output_type": "execute_result"
    }
   ],
   "execution_count": 9
  }
 ],
 "metadata": {
  "kernelspec": {
   "display_name": "Python 3",
   "language": "python",
   "name": "python3"
  },
  "language_info": {
   "codemirror_mode": {
    "name": "ipython",
    "version": 3
   },
   "file_extension": ".py",
   "mimetype": "text/x-python",
   "name": "python",
   "nbconvert_exporter": "python",
   "pygments_lexer": "ipython3",
   "version": "3.13.5"
  }
 },
 "nbformat": 4,
 "nbformat_minor": 2
}
